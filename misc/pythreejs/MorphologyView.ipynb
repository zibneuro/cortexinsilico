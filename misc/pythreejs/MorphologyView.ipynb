{
 "cells": [
  {
   "cell_type": "code",
   "execution_count": 1,
   "metadata": {},
   "outputs": [],
   "source": [
    "import json\n",
    "from pythreejs import *\n",
    "import ipywidgets\n",
    "from IPython.display import display\n",
    "import numpy as np"
   ]
  },
  {
   "cell_type": "code",
   "execution_count": 2,
   "metadata": {},
   "outputs": [],
   "source": [
    "def getPositions(morphology, geometryIndex):\n",
    "    return morphology[\"geometries\"][geometryIndex][\"data\"][\"attributes\"][\"position\"][\"array\"]\n",
    "\n",
    "def getPositionArray(positions):\n",
    "    positionArray = []\n",
    "    for i in range(0,len(positions),3):\n",
    "        pos3d = [positions[i], positions[i+1], positions[i+2]]\n",
    "        positionArray.append(pos3d)        \n",
    "    return positionArray\n",
    "\n",
    "def getMeanCoordinate(vertexArray):\n",
    "    return np.mean(vertexArray, axis=0)\n",
    "\n",
    "def getColors(morphology):\n",
    "    colors = {}\n",
    "    for i in range(0, len(morphology[\"materials\"])):\n",
    "        material =  morphology[\"materials\"][i]\n",
    "        colors[material[\"uuid\"]] = material[\"color\"]\n",
    "    return colors\n",
    "\n",
    "def appendColor(colorArray, color):\n",
    "    r = int(color[2:4],16)\n",
    "    g = int(color[4:6],16)\n",
    "    b = int(color[6:8],16)    \n",
    "    \n",
    "    r = float(r) / 255\n",
    "    g = float(g) / 255\n",
    "    b = float(b) / 255\n",
    "\n",
    "    colorArray.append([r,g,b])    \n",
    "\n",
    "def getMaterialMap(morphology):\n",
    "    materialMap = {}\n",
    "    for i in range(0, len(morphology[\"object\"][\"children\"])):\n",
    "        child =  morphology[\"object\"][\"children\"][i]\n",
    "        materialMap[child[\"geometry\"]] = child[\"material\"]\n",
    "    return materialMap"
   ]
  },
  {
   "cell_type": "code",
   "execution_count": 3,
   "metadata": {},
   "outputs": [],
   "source": [
    "#with open(\"morphology2.json\") as f:\n",
    "with open(\"morphology.json\") as f:\n",
    "    morphology = json.load(f)\n",
    "\n",
    "scale_factor = 0.1\n",
    "\n",
    "positionArray = []\n",
    "indexArray = []\n",
    "vertexArray = []\n",
    "colorArray = []\n",
    "\n",
    "colorMap = getColors(morphology)\n",
    "materialMap = getMaterialMap(morphology)\n",
    "\n",
    "currentIndex = 0\n",
    "for i in range(0, len(morphology[\"geometries\"])):  \n",
    "    geometry = morphology[\"geometries\"][i]\n",
    "    color = colorMap[materialMap[geometry[\"uuid\"]]]\n",
    "    positions = getPositions(morphology, i)\n",
    "    positionArray = getPositionArray(positions)\n",
    "    vertexArray.append(positionArray[0])\n",
    "    appendColor(colorArray, color)\n",
    "    for j in range(1,len(positionArray)-1):\n",
    "        vertexArray.append(positionArray[j])\n",
    "        vertexArray.append(positionArray[j])\n",
    "        appendColor(colorArray, color)\n",
    "        appendColor(colorArray, color)\n",
    "    vertexArray.append(positionArray[-1])\n",
    "    appendColor(colorArray, color)\n",
    "\n",
    "mean = getMeanCoordinate(vertexArray)\n",
    "offset = -scale_factor * mean\n",
    "    \n",
    "vertices = BufferAttribute(\n",
    "    array=scale_factor * np.array(vertexArray,dtype=np.float32),\n",
    "    normalized=False)\n",
    "\n",
    "colors = BufferAttribute(\n",
    "    array=np.array(colorArray,dtype=np.float32)\n",
    ")\n",
    "\n",
    "geometry = BufferGeometry(\n",
    "    attributes={'position': vertices, 'color':colors},\n",
    ")\n",
    "\n",
    "geometry.exec_three_obj_method('translate',offset[0], offset[1], offset[2])\n",
    "\n",
    "material = LineBasicMaterial(vertexColors='VertexColors')\n",
    "#material.vertexColors = VertexColors\n",
    "material.linewidth = 1\n",
    "\n",
    "edges = LineSegments(geometry, material)"
   ]
  },
  {
   "cell_type": "code",
   "execution_count": 4,
   "metadata": {},
   "outputs": [],
   "source": [
    "view_width = 600\n",
    "view_height = 600"
   ]
  },
  {
   "cell_type": "code",
   "execution_count": 5,
   "metadata": {},
   "outputs": [],
   "source": [
    "sphere = Mesh(\n",
    "    SphereBufferGeometry(1, 32, 16),\n",
    "    MeshStandardMaterial(color='red')\n",
    ")"
   ]
  },
  {
   "cell_type": "code",
   "execution_count": 6,
   "metadata": {},
   "outputs": [],
   "source": [
    "cube = Mesh(\n",
    "    BoxBufferGeometry(1, 1, 1),\n",
    "    MeshPhysicalMaterial(color='green'),\n",
    "    position=[2, 0, 4]\n",
    ")"
   ]
  },
  {
   "cell_type": "code",
   "execution_count": 7,
   "metadata": {},
   "outputs": [],
   "source": [
    "camera = PerspectiveCamera( position=[100, 0, 0], aspect=view_width/view_height)\n",
    "camera.up = [0,0,1] \n",
    "key_light = DirectionalLight(position=[0, 10, 10])\n",
    "ambient_light = AmbientLight()"
   ]
  },
  {
   "cell_type": "code",
   "execution_count": 8,
   "metadata": {},
   "outputs": [],
   "source": [
    "children=[camera, key_light, ambient_light, edges]\n",
    "scene = Scene(children=children, background=\"#FAEBD7\")\n",
    "controller = OrbitControls(controlling=camera)\n",
    "renderer = Renderer(camera=camera, scene=scene, controls=[controller],\n",
    "                    width=view_width, height=view_height)"
   ]
  },
  {
   "cell_type": "code",
   "execution_count": 9,
   "metadata": {},
   "outputs": [
    {
     "data": {
      "application/vnd.jupyter.widget-view+json": {
       "model_id": "037abf43a0114c05bc8abe25825f1886",
       "version_major": 2,
       "version_minor": 0
      },
      "text/plain": [
       "UmVuZGVyZXIoY2FtZXJhPVBlcnNwZWN0aXZlQ2FtZXJhKHBvc2l0aW9uPSgxMDAuMCwgMC4wLCAwLjApLCBxdWF0ZXJuaW9uPSgwLjAsIDAuMCwgMC4wLCAxLjApLCBzY2FsZT0oMS4wLCAxLjDigKY=\n"
      ]
     },
     "metadata": {},
     "output_type": "display_data"
    }
   ],
   "source": [
    "renderer"
   ]
  },
  {
   "cell_type": "code",
   "execution_count": null,
   "metadata": {},
   "outputs": [],
   "source": []
  },
  {
   "cell_type": "code",
   "execution_count": null,
   "metadata": {},
   "outputs": [],
   "source": []
  }
 ],
 "metadata": {
  "kernelspec": {
   "display_name": "Python 3",
   "language": "python",
   "name": "python3"
  },
  "language_info": {
   "codemirror_mode": {
    "name": "ipython",
    "version": 2
   },
   "file_extension": ".py",
   "mimetype": "text/x-python",
   "name": "python",
   "nbconvert_exporter": "python",
   "pygments_lexer": "ipython2",
   "version": "2.7.15rc1"
  }
 },
 "nbformat": 4,
 "nbformat_minor": 2
}
