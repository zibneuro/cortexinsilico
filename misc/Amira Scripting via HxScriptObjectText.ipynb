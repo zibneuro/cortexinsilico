{
 "cells": [
  {
   "cell_type": "code",
   "execution_count": 1,
   "metadata": {},
   "outputs": [],
   "source": [
    "import sys\n",
    "import subprocess"
   ]
  },
  {
   "cell_type": "markdown",
   "metadata": {},
   "source": [
    "Vorbereitung:\n",
    "* Amira starten, leeres Projekt öffnen. Unter 'Window' das Fenster 'Consoles' öffnen. In der Tcl-Console den Server starten mit dem Befehl '**app listen**'. Eine Portnummer wird angezeigt.\n",
    "* Die Anzeige sollte etwa so aussehen: *AmiraZIBEdition listening at port 7175*\n",
    "* Zum eigenlichen Senden der tcl-Kommandos an Amira verwende ich das Tool tclsh. Hier ist der Download-Link:\n",
    "https://www.activestate.com/activetcl/downloads"
   ]
  },
  {
   "cell_type": "code",
   "execution_count": 48,
   "metadata": {},
   "outputs": [],
   "source": [
    "host = 'localhost'\n",
    "port = 7175\n",
    "\n",
    "# path to helper script, which excecutes the actual tcl script in Amira\n",
    "executeScriptObjectPath = \"C:\\\\Users\\\\philipp\\\\Desktop\\\\tcl\\\\executeScriptObject\"\n",
    "\n",
    "# path to the actual tcl script\n",
    "tclScriptPath = \"C:/Users/Philipp/Desktop/tcl/test.tcl\"\n",
    "\n",
    "# path to tcl tool, which executes the helper tcl scripts\n",
    "tclshPath = \".\""
   ]
  },
  {
   "cell_type": "markdown",
   "metadata": {},
   "source": [
    "Write actual tcl script to file"
   ]
  },
  {
   "cell_type": "code",
   "execution_count": 60,
   "metadata": {},
   "outputs": [],
   "source": [
    "tclCommands = [\"set viewerSettings [viewer getCamera]\",\n",
    "               \"create HxSpatialGraph \\\"test\\\"\",\n",
    "               \"viewer setCamera $viewerSettings\"]\n",
    "with open(tclScriptPath,\"w+\") as f:\n",
    "    f.write(\"\\n\".join(tclCommands))"
   ]
  },
  {
   "cell_type": "markdown",
   "metadata": {},
   "source": [
    "Write and execute helper script"
   ]
  },
  {
   "cell_type": "code",
   "execution_count": 61,
   "metadata": {},
   "outputs": [
    {
     "data": {
      "text/plain": [
       "CompletedProcess(args=['tclsh', 'C:\\\\Users\\\\philipp\\\\Desktop\\\\tcl\\\\executeScriptObject'], returncode=0)"
      ]
     },
     "execution_count": 61,
     "metadata": {},
     "output_type": "execute_result"
    }
   ],
   "source": [
    "with open(executeScriptObjectPath, \"w+\") as f:\n",
    "    f.write(\"set server {0}\\n\".format(host))\n",
    "    f.write(\"set sockChan [socket $server {0}]\\n\".format(port))\n",
    "    f.write(\"puts $sockChan \\\"remove scriptObject\\\"\\n\")\n",
    "    f.write(\"puts $sockChan \\\"create HxScriptObjectText scriptObject\\\"\\n\")\n",
    "    f.write(\"puts $sockChan \\\"scriptObject scriptText setValue \\\\\\\"source {0}\\\\\\\"\\\"\\n\".format(tclScriptPath))\n",
    "    f.write(\"puts $sockChan \\\"scriptObject action hit\\\"\\n\")\n",
    "    f.write(\"puts $sockChan \\\"scriptObject fire\\\"\\n\")\n",
    "    f.write(\"flush $sockChan\")\n",
    "    f.close()\n",
    "\n",
    "subprocess.run([\"tclsh\", executeScriptObjectPath], cwd=tclshPath)"
   ]
  },
  {
   "cell_type": "code",
   "execution_count": null,
   "metadata": {},
   "outputs": [],
   "source": []
  }
 ],
 "metadata": {
  "kernelspec": {
   "display_name": "Python 3",
   "language": "python",
   "name": "python3"
  },
  "language_info": {
   "codemirror_mode": {
    "name": "ipython",
    "version": 3
   },
   "file_extension": ".py",
   "mimetype": "text/x-python",
   "name": "python",
   "nbconvert_exporter": "python",
   "pygments_lexer": "ipython3",
   "version": "3.7.1"
  }
 },
 "nbformat": 4,
 "nbformat_minor": 2
}
